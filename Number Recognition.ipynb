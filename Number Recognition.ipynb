{
  "cells": [
    {
      "cell_type": "code",
      "execution_count": 11,
      "metadata": {
        "colab": {
          "base_uri": "https://localhost:8080/"
        },
        "id": "6L6iVyg6IvKn",
        "outputId": "be8382d9-e1c7-496a-89d2-fb36546a74c0"
      },
      "outputs": [
        {
          "name": "stdout",
          "output_type": "stream",
          "text": [
            "Requirement already satisfied: keras in /Users/likhithkanigolla/IIITH/MS/S1-Course/CS3.404-IAS/venv/lib/python3.11/site-packages (3.8.0)\n",
            "Requirement already satisfied: absl-py in /Users/likhithkanigolla/IIITH/MS/S1-Course/CS3.404-IAS/venv/lib/python3.11/site-packages (from keras) (2.1.0)\n",
            "Requirement already satisfied: numpy in /Users/likhithkanigolla/IIITH/MS/S1-Course/CS3.404-IAS/venv/lib/python3.11/site-packages (from keras) (2.0.2)\n",
            "Requirement already satisfied: rich in /Users/likhithkanigolla/IIITH/MS/S1-Course/CS3.404-IAS/venv/lib/python3.11/site-packages (from keras) (13.9.4)\n",
            "Requirement already satisfied: namex in /Users/likhithkanigolla/IIITH/MS/S1-Course/CS3.404-IAS/venv/lib/python3.11/site-packages (from keras) (0.0.8)\n",
            "Requirement already satisfied: h5py in /Users/likhithkanigolla/IIITH/MS/S1-Course/CS3.404-IAS/venv/lib/python3.11/site-packages (from keras) (3.12.1)\n",
            "Requirement already satisfied: optree in /Users/likhithkanigolla/IIITH/MS/S1-Course/CS3.404-IAS/venv/lib/python3.11/site-packages (from keras) (0.14.0)\n",
            "Requirement already satisfied: ml-dtypes in /Users/likhithkanigolla/IIITH/MS/S1-Course/CS3.404-IAS/venv/lib/python3.11/site-packages (from keras) (0.4.1)\n",
            "Requirement already satisfied: packaging in /Users/likhithkanigolla/IIITH/MS/S1-Course/CS3.404-IAS/venv/lib/python3.11/site-packages (from keras) (24.2)\n",
            "Requirement already satisfied: typing-extensions>=4.5.0 in /Users/likhithkanigolla/IIITH/MS/S1-Course/CS3.404-IAS/venv/lib/python3.11/site-packages (from optree->keras) (4.12.2)\n",
            "Requirement already satisfied: markdown-it-py>=2.2.0 in /Users/likhithkanigolla/IIITH/MS/S1-Course/CS3.404-IAS/venv/lib/python3.11/site-packages (from rich->keras) (3.0.0)\n",
            "Requirement already satisfied: pygments<3.0.0,>=2.13.0 in /Users/likhithkanigolla/IIITH/MS/S1-Course/CS3.404-IAS/venv/lib/python3.11/site-packages (from rich->keras) (2.19.1)\n",
            "Requirement already satisfied: mdurl~=0.1 in /Users/likhithkanigolla/IIITH/MS/S1-Course/CS3.404-IAS/venv/lib/python3.11/site-packages (from markdown-it-py>=2.2.0->rich->keras) (0.1.2)\n",
            "\n",
            "\u001b[1m[\u001b[0m\u001b[34;49mnotice\u001b[0m\u001b[1;39;49m]\u001b[0m\u001b[39;49m A new release of pip is available: \u001b[0m\u001b[31;49m23.2.1\u001b[0m\u001b[39;49m -> \u001b[0m\u001b[32;49m25.0.1\u001b[0m\n",
            "\u001b[1m[\u001b[0m\u001b[34;49mnotice\u001b[0m\u001b[1;39;49m]\u001b[0m\u001b[39;49m To update, run: \u001b[0m\u001b[32;49mpip install --upgrade pip\u001b[0m\n",
            "Note: you may need to restart the kernel to use updated packages.\n",
            "Requirement already satisfied: torch in /Users/likhithkanigolla/IIITH/MS/S1-Course/CS3.404-IAS/venv/lib/python3.11/site-packages (2.6.0)\n",
            "Requirement already satisfied: filelock in /Users/likhithkanigolla/IIITH/MS/S1-Course/CS3.404-IAS/venv/lib/python3.11/site-packages (from torch) (3.17.0)\n",
            "Requirement already satisfied: typing-extensions>=4.10.0 in /Users/likhithkanigolla/IIITH/MS/S1-Course/CS3.404-IAS/venv/lib/python3.11/site-packages (from torch) (4.12.2)\n",
            "Requirement already satisfied: networkx in /Users/likhithkanigolla/IIITH/MS/S1-Course/CS3.404-IAS/venv/lib/python3.11/site-packages (from torch) (3.4.2)\n",
            "Requirement already satisfied: jinja2 in /Users/likhithkanigolla/IIITH/MS/S1-Course/CS3.404-IAS/venv/lib/python3.11/site-packages (from torch) (3.1.5)\n",
            "Requirement already satisfied: fsspec in /Users/likhithkanigolla/IIITH/MS/S1-Course/CS3.404-IAS/venv/lib/python3.11/site-packages (from torch) (2025.2.0)\n",
            "Requirement already satisfied: sympy==1.13.1 in /Users/likhithkanigolla/IIITH/MS/S1-Course/CS3.404-IAS/venv/lib/python3.11/site-packages (from torch) (1.13.1)\n",
            "Requirement already satisfied: mpmath<1.4,>=1.1.0 in /Users/likhithkanigolla/IIITH/MS/S1-Course/CS3.404-IAS/venv/lib/python3.11/site-packages (from sympy==1.13.1->torch) (1.3.0)\n",
            "Requirement already satisfied: MarkupSafe>=2.0 in /Users/likhithkanigolla/IIITH/MS/S1-Course/CS3.404-IAS/venv/lib/python3.11/site-packages (from jinja2->torch) (3.0.2)\n",
            "\n",
            "\u001b[1m[\u001b[0m\u001b[34;49mnotice\u001b[0m\u001b[1;39;49m]\u001b[0m\u001b[39;49m A new release of pip is available: \u001b[0m\u001b[31;49m23.2.1\u001b[0m\u001b[39;49m -> \u001b[0m\u001b[32;49m25.0.1\u001b[0m\n",
            "\u001b[1m[\u001b[0m\u001b[34;49mnotice\u001b[0m\u001b[1;39;49m]\u001b[0m\u001b[39;49m To update, run: \u001b[0m\u001b[32;49mpip install --upgrade pip\u001b[0m\n",
            "Note: you may need to restart the kernel to use updated packages.\n",
            "Requirement already satisfied: torchvision in /Users/likhithkanigolla/IIITH/MS/S1-Course/CS3.404-IAS/venv/lib/python3.11/site-packages (0.21.0)\n",
            "Requirement already satisfied: numpy in /Users/likhithkanigolla/IIITH/MS/S1-Course/CS3.404-IAS/venv/lib/python3.11/site-packages (from torchvision) (2.0.2)\n",
            "Requirement already satisfied: torch==2.6.0 in /Users/likhithkanigolla/IIITH/MS/S1-Course/CS3.404-IAS/venv/lib/python3.11/site-packages (from torchvision) (2.6.0)\n",
            "Requirement already satisfied: pillow!=8.3.*,>=5.3.0 in /Users/likhithkanigolla/IIITH/MS/S1-Course/CS3.404-IAS/venv/lib/python3.11/site-packages (from torchvision) (11.1.0)\n",
            "Requirement already satisfied: filelock in /Users/likhithkanigolla/IIITH/MS/S1-Course/CS3.404-IAS/venv/lib/python3.11/site-packages (from torch==2.6.0->torchvision) (3.17.0)\n",
            "Requirement already satisfied: typing-extensions>=4.10.0 in /Users/likhithkanigolla/IIITH/MS/S1-Course/CS3.404-IAS/venv/lib/python3.11/site-packages (from torch==2.6.0->torchvision) (4.12.2)\n",
            "Requirement already satisfied: networkx in /Users/likhithkanigolla/IIITH/MS/S1-Course/CS3.404-IAS/venv/lib/python3.11/site-packages (from torch==2.6.0->torchvision) (3.4.2)\n",
            "Requirement already satisfied: jinja2 in /Users/likhithkanigolla/IIITH/MS/S1-Course/CS3.404-IAS/venv/lib/python3.11/site-packages (from torch==2.6.0->torchvision) (3.1.5)\n",
            "Requirement already satisfied: fsspec in /Users/likhithkanigolla/IIITH/MS/S1-Course/CS3.404-IAS/venv/lib/python3.11/site-packages (from torch==2.6.0->torchvision) (2025.2.0)\n",
            "Requirement already satisfied: sympy==1.13.1 in /Users/likhithkanigolla/IIITH/MS/S1-Course/CS3.404-IAS/venv/lib/python3.11/site-packages (from torch==2.6.0->torchvision) (1.13.1)\n",
            "Requirement already satisfied: mpmath<1.4,>=1.1.0 in /Users/likhithkanigolla/IIITH/MS/S1-Course/CS3.404-IAS/venv/lib/python3.11/site-packages (from sympy==1.13.1->torch==2.6.0->torchvision) (1.3.0)\n",
            "Requirement already satisfied: MarkupSafe>=2.0 in /Users/likhithkanigolla/IIITH/MS/S1-Course/CS3.404-IAS/venv/lib/python3.11/site-packages (from jinja2->torch==2.6.0->torchvision) (3.0.2)\n",
            "\n",
            "\u001b[1m[\u001b[0m\u001b[34;49mnotice\u001b[0m\u001b[1;39;49m]\u001b[0m\u001b[39;49m A new release of pip is available: \u001b[0m\u001b[31;49m23.2.1\u001b[0m\u001b[39;49m -> \u001b[0m\u001b[32;49m25.0.1\u001b[0m\n",
            "\u001b[1m[\u001b[0m\u001b[34;49mnotice\u001b[0m\u001b[1;39;49m]\u001b[0m\u001b[39;49m To update, run: \u001b[0m\u001b[32;49mpip install --upgrade pip\u001b[0m\n",
            "Note: you may need to restart the kernel to use updated packages.\n"
          ]
        }
      ],
      "source": [
        "%pip install keras\n",
        "%pip install torch\n",
        "%pip install torchvision"
      ]
    },
    {
      "cell_type": "code",
      "execution_count": 13,
      "metadata": {},
      "outputs": [],
      "source": [
        "import torch\n",
        "import torch.nn as nn\n",
        "import torch.optim as optim\n",
        "from torch.utils.data import DataLoader, TensorDataset\n",
        "from torchvision import transforms\n",
        "from keras.datasets import mnist"
      ]
    },
    {
      "cell_type": "code",
      "execution_count": 14,
      "metadata": {},
      "outputs": [],
      "source": [
        "# Define PyTorch Model\n",
        "class MNISTNet(nn.Module):\n",
        "    def __init__(self):\n",
        "        super(MNISTNet, self).__init__()\n",
        "        self.fc1 = nn.Linear(784, 512)\n",
        "        self.fc2 = nn.Linear(512, 512)\n",
        "        self.fc3 = nn.Linear(512, 10)\n",
        "        self.dropout = nn.Dropout(0.2)\n",
        "        self.relu = nn.ReLU()\n",
        "        \n",
        "    def forward(self, x):\n",
        "        x = x.view(-1, 784)  # Flatten input\n",
        "        x = self.relu(self.fc1(x))\n",
        "        x = self.dropout(x)\n",
        "        x = self.relu(self.fc2(x))\n",
        "        x = self.dropout(x)\n",
        "        x = self.fc3(x)\n",
        "        return x\n",
        "\n",
        "# Initialize model\n",
        "model = MNISTNet()"
      ]
    },
    {
      "cell_type": "code",
      "execution_count": 15,
      "metadata": {
        "colab": {
          "base_uri": "https://localhost:8080/"
        },
        "id": "xUzDPf-qJc9i",
        "outputId": "10cf4bab-eb1c-4a2f-ddc8-2bb15b956099"
      },
      "outputs": [],
      "source": [
        "(X_train, y_train), (X_test, y_test) = mnist.load_data()"
      ]
    },
    {
      "cell_type": "code",
      "execution_count": 16,
      "metadata": {},
      "outputs": [],
      "source": [
        "# Convert numpy arrays to PyTorch tensors\n",
        "X_train_tensor = torch.from_numpy(X_train).float()\n",
        "y_train_tensor = torch.from_numpy(y_train).long()\n",
        "X_test_tensor = torch.from_numpy(X_test).float()\n",
        "y_test_tensor = torch.from_numpy(y_test).long()\n",
        "\n",
        "# Create DataLoader\n",
        "train_dataset = TensorDataset(X_train_tensor, y_train_tensor)\n",
        "test_dataset = TensorDataset(X_test_tensor, y_test_tensor)\n",
        "train_loader = DataLoader(train_dataset, batch_size=128, shuffle=True)\n",
        "test_loader = DataLoader(test_dataset, batch_size=128)"
      ]
    },
    {
      "cell_type": "code",
      "execution_count": 17,
      "metadata": {},
      "outputs": [
        {
          "name": "stdout",
          "output_type": "stream",
          "text": [
            "Epoch 1 - Train Accuracy: 90.02%\n",
            "Epoch 2 - Train Accuracy: 94.88%\n",
            "Epoch 3 - Train Accuracy: 95.71%\n",
            "Epoch 4 - Train Accuracy: 96.03%\n",
            "Epoch 5 - Train Accuracy: 96.17%\n"
          ]
        }
      ],
      "source": [
        "criterion = nn.CrossEntropyLoss()\n",
        "optimizer = optim.Adam(model.parameters())\n",
        "\n",
        "for epoch in range(5):\n",
        "    model.train()\n",
        "    train_loss = 0\n",
        "    correct = 0\n",
        "    \n",
        "    for data, target in train_loader:\n",
        "        optimizer.zero_grad()\n",
        "        output = model(data)\n",
        "        loss = criterion(output, target)\n",
        "        loss.backward()\n",
        "        optimizer.step()\n",
        "        \n",
        "        train_loss += loss.item()\n",
        "        pred = output.argmax(dim=1)\n",
        "        correct += pred.eq(target).sum().item()\n",
        "    \n",
        "    print(f'Epoch {epoch+1} - Train Accuracy: {100.*correct/len(train_loader.dataset):.2f}%')"
      ]
    },
    {
      "cell_type": "code",
      "execution_count": 18,
      "metadata": {},
      "outputs": [],
      "source": [
        "# Save PyTorch model state dict\n",
        "torch.save(model.state_dict(), 'mnist_model.pth')"
      ]
    },
    {
      "cell_type": "code",
      "execution_count": 19,
      "metadata": {},
      "outputs": [],
      "source": [
        "def predict_from_image(image_path, model):\n",
        "    try:\n",
        "        img = Image.open(image_path).convert('L')\n",
        "        img = img.resize((28, 28))\n",
        "        transform = transforms.Compose([\n",
        "            transforms.ToTensor(),\n",
        "            transforms.Normalize((0.5,), (0.5,))\n",
        "        ])\n",
        "        img_tensor = transform(img).unsqueeze(0)\n",
        "        \n",
        "        with torch.no_grad():\n",
        "            output = model(img_tensor)\n",
        "            prediction = output.argmax().item()\n",
        "            \n",
        "        return prediction\n",
        "    except Exception as e:\n",
        "        print(f\"Error: {e}\")\n",
        "        return None"
      ]
    },
    {
      "cell_type": "code",
      "execution_count": 20,
      "metadata": {},
      "outputs": [
        {
          "name": "stdout",
          "output_type": "stream",
          "text": [
            "The predicted class for the image is: 8\n"
          ]
        }
      ],
      "source": [
        "from PIL import Image\n",
        "\n",
        "# Load the PyTorch model state dict\n",
        "model = MNISTNet()\n",
        "model.load_state_dict(torch.load('mnist_model.pth'))\n",
        "model.eval()\n",
        "\n",
        "# Predict from image\n",
        "predicted_class = predict_from_image('Digits/sample_digit_1.png', model)\n",
        "if predicted_class is not None:\n",
        "    print(f\"The predicted class for the image is: {predicted_class}\")"
      ]
    }
  ],
  "metadata": {
    "colab": {
      "provenance": []
    },
    "kernelspec": {
      "display_name": "venv",
      "language": "python",
      "name": "python3"
    },
    "language_info": {
      "codemirror_mode": {
        "name": "ipython",
        "version": 3
      },
      "file_extension": ".py",
      "mimetype": "text/x-python",
      "name": "python",
      "nbconvert_exporter": "python",
      "pygments_lexer": "ipython3",
      "version": "3.11.6"
    }
  },
  "nbformat": 4,
  "nbformat_minor": 0
}
